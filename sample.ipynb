{
 "cells": [
  {
   "cell_type": "markdown",
   "id": "258d1caf",
   "metadata": {},
   "source": [
    "### Pydantic\n",
    "###### Pydantic models are functions are the foundation of data validation library. They use Python annotations to define the structure and validate data at run time.Here's a detailed exploration of basic model creation with several examples."
   ]
  },
  {
   "cell_type": "code",
   "execution_count": 25,
   "id": "c31f48dc",
   "metadata": {},
   "outputs": [],
   "source": [
    "from pydantic import BaseModel"
   ]
  },
  {
   "cell_type": "code",
   "execution_count": 26,
   "id": "bb293806",
   "metadata": {},
   "outputs": [],
   "source": [
    "class Person(BaseModel):\n",
    "    name:str\n",
    "    age:int \n",
    "    city:str"
   ]
  },
  {
   "cell_type": "code",
   "execution_count": 27,
   "id": "bcba4832",
   "metadata": {},
   "outputs": [
    {
     "ename": "ValidationError",
     "evalue": "1 validation error for Person\ncity\n  Input should be a valid string [type=string_type, input_value=12, input_type=int]\n    For further information visit https://errors.pydantic.dev/2.5/v/string_type",
     "output_type": "error",
     "traceback": [
      "\u001b[1;31m---------------------------------------------------------------------------\u001b[0m",
      "\u001b[1;31mValidationError\u001b[0m                           Traceback (most recent call last)",
      "Cell \u001b[1;32mIn[27], line 1\u001b[0m\n\u001b[1;32m----> 1\u001b[0m p3\u001b[38;5;241m=\u001b[39mPerson(name\u001b[38;5;241m=\u001b[39m\u001b[38;5;124m'\u001b[39m\u001b[38;5;124mvenu\u001b[39m\u001b[38;5;124m'\u001b[39m,age\u001b[38;5;241m=\u001b[39m\u001b[38;5;124m\"\u001b[39m\u001b[38;5;124m-2\u001b[39m\u001b[38;5;124m\"\u001b[39m,city\u001b[38;5;241m=\u001b[39m\u001b[38;5;241m12\u001b[39m)\n",
      "File \u001b[1;32mc:\\Users\\venuv\\anaconda3\\Lib\\site-packages\\pydantic\\main.py:164\u001b[0m, in \u001b[0;36mBaseModel.__init__\u001b[1;34m(__pydantic_self__, **data)\u001b[0m\n\u001b[0;32m    162\u001b[0m \u001b[38;5;66;03m# `__tracebackhide__` tells pytest and some other tools to omit this function from tracebacks\u001b[39;00m\n\u001b[0;32m    163\u001b[0m __tracebackhide__ \u001b[38;5;241m=\u001b[39m \u001b[38;5;28;01mTrue\u001b[39;00m\n\u001b[1;32m--> 164\u001b[0m __pydantic_self__\u001b[38;5;241m.\u001b[39m__pydantic_validator__\u001b[38;5;241m.\u001b[39mvalidate_python(data, self_instance\u001b[38;5;241m=\u001b[39m__pydantic_self__)\n",
      "\u001b[1;31mValidationError\u001b[0m: 1 validation error for Person\ncity\n  Input should be a valid string [type=string_type, input_value=12, input_type=int]\n    For further information visit https://errors.pydantic.dev/2.5/v/string_type"
     ]
    }
   ],
   "source": [
    "p3=Person(name='venu',age=\"-2\",city=12)"
   ]
  },
  {
   "cell_type": "code",
   "execution_count": null,
   "id": "bf45fb87",
   "metadata": {},
   "outputs": [
    {
     "ename": "ValidationError",
     "evalue": "2 validation errors for Person\nage\n  Input should be a valid integer, unable to parse string as an integer [type=int_parsing, input_value='two', input_type=str]\n    For further information visit https://errors.pydantic.dev/2.5/v/int_parsing\ncity\n  Input should be a valid string [type=string_type, input_value=12, input_type=int]\n    For further information visit https://errors.pydantic.dev/2.5/v/string_type",
     "output_type": "error",
     "traceback": [
      "\u001b[1;31m---------------------------------------------------------------------------\u001b[0m",
      "\u001b[1;31mValidationError\u001b[0m                           Traceback (most recent call last)",
      "Cell \u001b[1;32mIn[18], line 1\u001b[0m\n\u001b[1;32m----> 1\u001b[0m p\u001b[38;5;241m=\u001b[39mPerson(name\u001b[38;5;241m=\u001b[39m\u001b[38;5;124m'\u001b[39m\u001b[38;5;124mvenu\u001b[39m\u001b[38;5;124m'\u001b[39m,age\u001b[38;5;241m=\u001b[39m\u001b[38;5;124m\"\u001b[39m\u001b[38;5;124mtwo\u001b[39m\u001b[38;5;124m\"\u001b[39m,city\u001b[38;5;241m=\u001b[39m\u001b[38;5;241m12\u001b[39m)\n",
      "File \u001b[1;32mc:\\Users\\venuv\\anaconda3\\Lib\\site-packages\\pydantic\\main.py:164\u001b[0m, in \u001b[0;36mBaseModel.__init__\u001b[1;34m(__pydantic_self__, **data)\u001b[0m\n\u001b[0;32m    162\u001b[0m \u001b[38;5;66;03m# `__tracebackhide__` tells pytest and some other tools to omit this function from tracebacks\u001b[39;00m\n\u001b[0;32m    163\u001b[0m __tracebackhide__ \u001b[38;5;241m=\u001b[39m \u001b[38;5;28;01mTrue\u001b[39;00m\n\u001b[1;32m--> 164\u001b[0m __pydantic_self__\u001b[38;5;241m.\u001b[39m__pydantic_validator__\u001b[38;5;241m.\u001b[39mvalidate_python(data, self_instance\u001b[38;5;241m=\u001b[39m__pydantic_self__)\n",
      "\u001b[1;31mValidationError\u001b[0m: 2 validation errors for Person\nage\n  Input should be a valid integer, unable to parse string as an integer [type=int_parsing, input_value='two', input_type=str]\n    For further information visit https://errors.pydantic.dev/2.5/v/int_parsing\ncity\n  Input should be a valid string [type=string_type, input_value=12, input_type=int]\n    For further information visit https://errors.pydantic.dev/2.5/v/string_type"
     ]
    }
   ],
   "source": [
    "p=Person(name='venu',age=\"two\",city=12)"
   ]
  },
  {
   "cell_type": "code",
   "execution_count": 29,
   "metadata": {},
   "outputs": [
    {
     "ename": "NameError",
     "evalue": "name 'p' is not defined",
     "output_type": "error",
     "traceback": [
      "\u001b[1;31m---------------------------------------------------------------------------\u001b[0m",
      "\u001b[1;31mNameError\u001b[0m                                 Traceback (most recent call last)",
      "Cell \u001b[1;32mIn[29], line 1\u001b[0m\n\u001b[1;32m----> 1\u001b[0m \u001b[38;5;28mprint\u001b[39m(p)\n",
      "\u001b[1;31mNameError\u001b[0m: name 'p' is not defined"
     ]
    }
   ],
   "source": [
    "print(p)"
   ]
  },
  {
   "cell_type": "code",
   "execution_count": null,
   "metadata": {},
   "outputs": [
    {
     "data": {
      "text/plain": [
       "__main__.Person"
      ]
     },
     "execution_count": 20,
     "metadata": {},
     "output_type": "execute_result"
    }
   ],
   "source": [
    "type(p)"
   ]
  },
  {
   "cell_type": "code",
   "execution_count": null,
   "id": "56eacd4e",
   "metadata": {},
   "outputs": [],
   "source": [
    "from dataclasses import dataclass # this is a decorator for normalk class to initialize the values \n",
    "@dataclass# should use this decorator\n",
    "class Person1():\n",
    "    name:str\n",
    "    age:int \n",
    "    city:str\n",
    "p1=Person1(name='venu',age='20',city='Banglore')"
   ]
  },
  {
   "cell_type": "code",
   "execution_count": null,
   "metadata": {},
   "outputs": [
    {
     "name": "stdout",
     "output_type": "stream",
     "text": [
      "Person1(name='venu', age='20', city='Banglore')\n"
     ]
    }
   ],
   "source": [
    "print(p1)"
   ]
  },
  {
   "cell_type": "code",
   "execution_count": null,
   "metadata": {},
   "outputs": [],
   "source": [
    "p2=Person1(name='venu',age='twnety',city=35)"
   ]
  },
  {
   "cell_type": "code",
   "execution_count": null,
   "metadata": {},
   "outputs": [
    {
     "name": "stdout",
     "output_type": "stream",
     "text": [
      "Person1(name='venu', age='twnety', city=35)\n"
     ]
    }
   ],
   "source": [
    "print(p2)"
   ]
  },
  {
   "cell_type": "code",
   "execution_count": null,
   "metadata": {},
   "outputs": [],
   "source": [
    "from typing import Optional#optional indicates field can be none\n",
    "class Employee(BaseModel):\n",
    "    id:int\n",
    "    name:str\n",
    "    department:str\n",
    "    salary:Optional[float]=None #defining an optional Value with None as default\n",
    "    is_active:Optional[bool]=True"
   ]
  },
  {
   "cell_type": "code",
   "execution_count": null,
   "id": "630639aa",
   "metadata": {},
   "outputs": [],
   "source": [
    "e=Employee(id='1',name='venu',department='AI')"
   ]
  },
  {
   "cell_type": "code",
   "execution_count": 28,
   "id": "d37389e2",
   "metadata": {},
   "outputs": [
    {
     "ename": "NameError",
     "evalue": "name 'e' is not defined",
     "output_type": "error",
     "traceback": [
      "\u001b[1;31m---------------------------------------------------------------------------\u001b[0m",
      "\u001b[1;31mNameError\u001b[0m                                 Traceback (most recent call last)",
      "Cell \u001b[1;32mIn[28], line 1\u001b[0m\n\u001b[1;32m----> 1\u001b[0m \u001b[38;5;28mprint\u001b[39m(e\u001b[38;5;241m.\u001b[39mmodel_json\u001b[38;5;241m.\u001b[39mschema())\n",
      "\u001b[1;31mNameError\u001b[0m: name 'e' is not defined"
     ]
    }
   ],
   "source": [
    "print(e.model_json.schema())"
   ]
  },
  {
   "cell_type": "code",
   "execution_count": null,
   "id": "54c3adbf",
   "metadata": {},
   "outputs": [
    {
     "name": "stdout",
     "output_type": "stream",
     "text": [
      "id=1 name='venu' department='AI' salary=None is_active=True\n"
     ]
    }
   ],
   "source": [
    "print(e)"
   ]
  },
  {
   "cell_type": "code",
   "execution_count": null,
   "id": "fa04c58f",
   "metadata": {},
   "outputs": [],
   "source": [
    "from typing import List\n",
    "\n",
    "class Student(BaseModel):\n",
    "    room_no:str\n",
    "    students:List[str]\n",
    "    capacity:int\n"
   ]
  },
  {
   "cell_type": "code",
   "execution_count": null,
   "id": "eea5a91b",
   "metadata": {},
   "outputs": [],
   "source": [
    "classroom=Student(room_no='A101',\n",
    "                  students=['Hari','Venu','Sahith','Adithya'],\n",
    "                  capacity=30)"
   ]
  },
  {
   "cell_type": "markdown",
   "id": "943183f6",
   "metadata": {},
   "source": [
    "#### Nested Models using Pydantic"
   ]
  },
  {
   "cell_type": "code",
   "execution_count": null,
   "id": "d9269914",
   "metadata": {},
   "outputs": [],
   "source": [
    "from pydantic import BaseModel\n",
    "\n",
    "class Address(BaseModel):\n",
    "    street:str\n",
    "    city:str\n",
    "    code:int\n",
    "class Customer(BaseModel):\n",
    "    customer_id:int\n",
    "    name:str\n",
    "    address:Address\n",
    "\n",
    "c=Customer(customer_id=1,\n",
    "           name='venu',\n",
    "           address={'street':'123main st','city':'Boston','code':'522301'})"
   ]
  },
  {
   "cell_type": "code",
   "execution_count": null,
   "metadata": {},
   "outputs": [
    {
     "name": "stdout",
     "output_type": "stream",
     "text": [
      "customer_id=1 name='venu' address=Address(street='123main st', city='Boston', code=522301)\n"
     ]
    }
   ],
   "source": [
    "print(c)"
   ]
  },
  {
   "cell_type": "code",
   "execution_count": null,
   "id": "0f0d2ca8",
   "metadata": {},
   "outputs": [
    {
     "ename": "AttributeError",
     "evalue": "'Person1' object has no attribute '__pydantic_fields_set__'",
     "output_type": "error",
     "traceback": [
      "\u001b[1;31m---------------------------------------------------------------------------\u001b[0m",
      "\u001b[1;31mAttributeError\u001b[0m                            Traceback (most recent call last)",
      "Cell \u001b[1;32mIn[7], line 7\u001b[0m\n\u001b[0;32m      5\u001b[0m     age:\u001b[38;5;28mint\u001b[39m \n\u001b[0;32m      6\u001b[0m     city:\u001b[38;5;28mstr\u001b[39m\n\u001b[1;32m----> 7\u001b[0m p1\u001b[38;5;241m=\u001b[39mPerson1(name\u001b[38;5;241m=\u001b[39m\u001b[38;5;124m'\u001b[39m\u001b[38;5;124mvenu\u001b[39m\u001b[38;5;124m'\u001b[39m,age\u001b[38;5;241m=\u001b[39m\u001b[38;5;124m'\u001b[39m\u001b[38;5;124m20\u001b[39m\u001b[38;5;124m'\u001b[39m,city\u001b[38;5;241m=\u001b[39m\u001b[38;5;124m'\u001b[39m\u001b[38;5;124mBanglore\u001b[39m\u001b[38;5;124m'\u001b[39m)\n",
      "File \u001b[1;32m<string>:3\u001b[0m, in \u001b[0;36m__init__\u001b[1;34m(self, name, age, city)\u001b[0m\n",
      "File \u001b[1;32mc:\\Users\\venuv\\anaconda3\\Lib\\site-packages\\pydantic\\main.py:804\u001b[0m, in \u001b[0;36mBaseModel.__setattr__\u001b[1;34m(self, name, value)\u001b[0m\n\u001b[0;32m    802\u001b[0m \u001b[38;5;28;01melse\u001b[39;00m:\n\u001b[0;32m    803\u001b[0m     \u001b[38;5;28mself\u001b[39m\u001b[38;5;241m.\u001b[39m\u001b[38;5;18m__dict__\u001b[39m[name] \u001b[38;5;241m=\u001b[39m value\n\u001b[1;32m--> 804\u001b[0m     \u001b[38;5;28mself\u001b[39m\u001b[38;5;241m.\u001b[39m__pydantic_fields_set__\u001b[38;5;241m.\u001b[39madd(name)\n",
      "File \u001b[1;32mc:\\Users\\venuv\\anaconda3\\Lib\\site-packages\\pydantic\\main.py:758\u001b[0m, in \u001b[0;36mBaseModel.__getattr__\u001b[1;34m(self, item)\u001b[0m\n\u001b[0;32m    756\u001b[0m \u001b[38;5;28;01melse\u001b[39;00m:\n\u001b[0;32m    757\u001b[0m     \u001b[38;5;28;01mif\u001b[39;00m \u001b[38;5;28mhasattr\u001b[39m(\u001b[38;5;28mself\u001b[39m\u001b[38;5;241m.\u001b[39m\u001b[38;5;18m__class__\u001b[39m, item):\n\u001b[1;32m--> 758\u001b[0m         \u001b[38;5;28;01mreturn\u001b[39;00m \u001b[38;5;28msuper\u001b[39m()\u001b[38;5;241m.\u001b[39m\u001b[38;5;21m__getattribute__\u001b[39m(item)  \u001b[38;5;66;03m# Raises AttributeError if appropriate\u001b[39;00m\n\u001b[0;32m    759\u001b[0m     \u001b[38;5;28;01melse\u001b[39;00m:\n\u001b[0;32m    760\u001b[0m         \u001b[38;5;66;03m# this is the current error\u001b[39;00m\n\u001b[0;32m    761\u001b[0m         \u001b[38;5;28;01mraise\u001b[39;00m \u001b[38;5;167;01mAttributeError\u001b[39;00m(\u001b[38;5;124mf\u001b[39m\u001b[38;5;124m'\u001b[39m\u001b[38;5;132;01m{\u001b[39;00m\u001b[38;5;28mtype\u001b[39m(\u001b[38;5;28mself\u001b[39m)\u001b[38;5;241m.\u001b[39m\u001b[38;5;18m__name__\u001b[39m\u001b[38;5;132;01m!r}\u001b[39;00m\u001b[38;5;124m object has no attribute \u001b[39m\u001b[38;5;132;01m{\u001b[39;00mitem\u001b[38;5;132;01m!r}\u001b[39;00m\u001b[38;5;124m'\u001b[39m)\n",
      "\u001b[1;31mAttributeError\u001b[0m: 'Person1' object has no attribute '__pydantic_fields_set__'"
     ]
    }
   ],
   "source": [
    "from dataclasses import dataclass # this is a decorator for normal class to initialize the values \n",
    "@dataclass# should use this decorator\n",
    "#BaseModel automatically generates __init__, type validation, and conversion — no need for @dataclass\n",
    "class Person1(BaseModel):\n",
    "    name:str\n",
    "    age:int \n",
    "    city:str\n",
    "p1=Person1(name='venu',age='20',city='Banglore')"
   ]
  },
  {
   "cell_type": "markdown",
   "id": "313dffdc",
   "metadata": {},
   "source": [
    "### Pydantic Fields : Customizing and Constraints\n",
    "##### we can customize and constraint fields declare or specify validation rules etc.."
   ]
  },
  {
   "cell_type": "code",
   "execution_count": null,
   "id": "a085e0d2",
   "metadata": {},
   "outputs": [],
   "source": [
    "from pydantic import BaseModel,Field\n",
    "\n",
    "class Item(BaseModel):\n",
    "    name:str=Field(min_length=2,max_length=50)\n",
    "    price:float=Field(gt=0,lt=1000)#greater than 0 and less than 1000\n",
    "    quantity:int=Field(ge=0)\n"
   ]
  },
  {
   "cell_type": "code",
   "execution_count": null,
   "metadata": {},
   "outputs": [
    {
     "name": "stdout",
     "output_type": "stream",
     "text": [
      "name='shampoo' price=19.2 quantity=20\n"
     ]
    }
   ],
   "source": [
    "i1=Item(name='shampoo',price='19.2',quantity='20')\n",
    "print(i1)"
   ]
  },
  {
   "cell_type": "code",
   "execution_count": null,
   "metadata": {},
   "outputs": [
    {
     "name": "stdout",
     "output_type": "stream",
     "text": [
      "19.2\n",
      "<class 'float'>\n"
     ]
    }
   ],
   "source": [
    "print(i1.price)\n",
    "print(type(i1.price))# type casting is being done by default"
   ]
  },
  {
   "cell_type": "code",
   "execution_count": null,
   "metadata": {},
   "outputs": [
    {
     "name": "stdout",
     "output_type": "stream",
     "text": [
      "{'properties': {'name': {'maxLength': 50, 'minLength': 2, 'title': 'Name', 'type': 'string'}, 'price': {'exclusiveMaximum': 1000.0, 'exclusiveMinimum': 0.0, 'title': 'Price', 'type': 'number'}, 'quantity': {'minimum': 0, 'title': 'Quantity', 'type': 'integer'}}, 'required': ['name', 'price', 'quantity'], 'title': 'Item', 'type': 'object'}\n"
     ]
    },
    {
     "name": "stderr",
     "output_type": "stream",
     "text": [
      "C:\\Users\\venuv\\AppData\\Local\\Temp\\ipykernel_1200\\2282575929.py:1: PydanticDeprecatedSince20: The `schema` method is deprecated; use `model_json_schema` instead. Deprecated in Pydantic V2.0 to be removed in V3.0. See Pydantic V2 Migration Guide at https://errors.pydantic.dev/2.5/migration/\n",
      "  print(i1.schema())\n"
     ]
    }
   ],
   "source": [
    "print(i1.schema())#method is depricated  hence showing strike"
   ]
  },
  {
   "cell_type": "code",
   "execution_count": null,
   "metadata": {},
   "outputs": [
    {
     "name": "stdout",
     "output_type": "stream",
     "text": [
      "{'properties': {'name': {'maxLength': 50, 'minLength': 2, 'title': 'Name', 'type': 'string'}, 'price': {'exclusiveMaximum': 1000.0, 'exclusiveMinimum': 0.0, 'title': 'Price', 'type': 'number'}, 'quantity': {'minimum': 0, 'title': 'Quantity', 'type': 'integer'}}, 'required': ['name', 'price', 'quantity'], 'title': 'Item', 'type': 'object'}\n"
     ]
    }
   ],
   "source": [
    "print(i1.model_json_schema())"
   ]
  },
  {
   "cell_type": "code",
   "execution_count": null,
   "metadata": {},
   "outputs": [],
   "source": []
  },
  {
   "cell_type": "code",
   "execution_count": null,
   "metadata": {},
   "outputs": [],
   "source": []
  },
  {
   "cell_type": "code",
   "execution_count": null,
   "metadata": {},
   "outputs": [],
   "source": []
  }
 ],
 "metadata": {
  "kernelspec": {
   "display_name": "base",
   "language": "python",
   "name": "python3"
  },
  "language_info": {
   "codemirror_mode": {
    "name": "ipython",
    "version": 3
   },
   "file_extension": ".py",
   "mimetype": "text/x-python",
   "name": "python",
   "nbconvert_exporter": "python",
   "pygments_lexer": "ipython3",
   "version": "3.12.4"
  }
 },
 "nbformat": 4,
 "nbformat_minor": 5
}
