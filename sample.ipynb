{
 "cells": [
  {
   "cell_type": "markdown",
   "id": "258d1caf",
   "metadata": {},
   "source": [
    "### Pydantic\n",
    "###### Pydantic models are functions are the foundation of data validation library. They use Python annotations to define the structure and validate data at run time.Here's a detailed exploration of basic model creation with several examples."
   ]
  },
  {
   "cell_type": "code",
   "execution_count": 1,
   "id": "c31f48dc",
   "metadata": {},
   "outputs": [],
   "source": [
    "from pydantic import BaseModel"
   ]
  },
  {
   "cell_type": "code",
   "execution_count": 17,
   "id": "bb293806",
   "metadata": {},
   "outputs": [],
   "source": [
    "class Person(BaseModel):\n",
    "    name:str\n",
    "    age:int \n",
    "    city:str"
   ]
  },
  {
   "cell_type": "code",
   "execution_count": 18,
   "id": "bf45fb87",
   "metadata": {},
   "outputs": [
    {
     "ename": "ValidationError",
     "evalue": "2 validation errors for Person\nage\n  Input should be a valid integer, unable to parse string as an integer [type=int_parsing, input_value='two', input_type=str]\n    For further information visit https://errors.pydantic.dev/2.5/v/int_parsing\ncity\n  Input should be a valid string [type=string_type, input_value=12, input_type=int]\n    For further information visit https://errors.pydantic.dev/2.5/v/string_type",
     "output_type": "error",
     "traceback": [
      "\u001b[1;31m---------------------------------------------------------------------------\u001b[0m",
      "\u001b[1;31mValidationError\u001b[0m                           Traceback (most recent call last)",
      "Cell \u001b[1;32mIn[18], line 1\u001b[0m\n\u001b[1;32m----> 1\u001b[0m p\u001b[38;5;241m=\u001b[39mPerson(name\u001b[38;5;241m=\u001b[39m\u001b[38;5;124m'\u001b[39m\u001b[38;5;124mvenu\u001b[39m\u001b[38;5;124m'\u001b[39m,age\u001b[38;5;241m=\u001b[39m\u001b[38;5;124m\"\u001b[39m\u001b[38;5;124mtwo\u001b[39m\u001b[38;5;124m\"\u001b[39m,city\u001b[38;5;241m=\u001b[39m\u001b[38;5;241m12\u001b[39m)\n",
      "File \u001b[1;32mc:\\Users\\venuv\\anaconda3\\Lib\\site-packages\\pydantic\\main.py:164\u001b[0m, in \u001b[0;36mBaseModel.__init__\u001b[1;34m(__pydantic_self__, **data)\u001b[0m\n\u001b[0;32m    162\u001b[0m \u001b[38;5;66;03m# `__tracebackhide__` tells pytest and some other tools to omit this function from tracebacks\u001b[39;00m\n\u001b[0;32m    163\u001b[0m __tracebackhide__ \u001b[38;5;241m=\u001b[39m \u001b[38;5;28;01mTrue\u001b[39;00m\n\u001b[1;32m--> 164\u001b[0m __pydantic_self__\u001b[38;5;241m.\u001b[39m__pydantic_validator__\u001b[38;5;241m.\u001b[39mvalidate_python(data, self_instance\u001b[38;5;241m=\u001b[39m__pydantic_self__)\n",
      "\u001b[1;31mValidationError\u001b[0m: 2 validation errors for Person\nage\n  Input should be a valid integer, unable to parse string as an integer [type=int_parsing, input_value='two', input_type=str]\n    For further information visit https://errors.pydantic.dev/2.5/v/int_parsing\ncity\n  Input should be a valid string [type=string_type, input_value=12, input_type=int]\n    For further information visit https://errors.pydantic.dev/2.5/v/string_type"
     ]
    }
   ],
   "source": [
    "p=Person(name='venu',age=\"two\",city=12)"
   ]
  },
  {
   "cell_type": "code",
   "execution_count": 19,
   "metadata": {},
   "outputs": [
    {
     "name": "stdout",
     "output_type": "stream",
     "text": [
      "Person(name='venu', age='two', city=12)\n"
     ]
    }
   ],
   "source": [
    "print(p)"
   ]
  },
  {
   "cell_type": "code",
   "execution_count": 20,
   "metadata": {},
   "outputs": [
    {
     "data": {
      "text/plain": [
       "__main__.Person"
      ]
     },
     "execution_count": 20,
     "metadata": {},
     "output_type": "execute_result"
    }
   ],
   "source": [
    "type(p)"
   ]
  },
  {
   "cell_type": "code",
   "execution_count": 21,
   "id": "56eacd4e",
   "metadata": {},
   "outputs": [],
   "source": [
    "from dataclasses import dataclass\n",
    "@dataclass\n",
    "class Person1():\n",
    "    name:str\n",
    "    age:int \n",
    "    city:str\n",
    "p1=Person1(name='venu',age='20',city='Banglore')"
   ]
  },
  {
   "cell_type": "code",
   "execution_count": 22,
   "metadata": {},
   "outputs": [
    {
     "name": "stdout",
     "output_type": "stream",
     "text": [
      "Person1(name='venu', age='20', city='Banglore')\n"
     ]
    }
   ],
   "source": [
    "print(p1)"
   ]
  },
  {
   "cell_type": "code",
   "execution_count": 23,
   "metadata": {},
   "outputs": [],
   "source": [
    "p2=Person1(name='venu',age='twnety',city=35)"
   ]
  },
  {
   "cell_type": "code",
   "execution_count": 24,
   "metadata": {},
   "outputs": [
    {
     "name": "stdout",
     "output_type": "stream",
     "text": [
      "Person1(name='venu', age='twnety', city=35)\n"
     ]
    }
   ],
   "source": [
    "print(p2)"
   ]
  },
  {
   "cell_type": "code",
   "execution_count": null,
   "metadata": {},
   "outputs": [],
   "source": [
    "from typing import Optional#optional indicates field can be none\n",
    "class Employee(BaseModel):\n",
    "    id:int\n",
    "    name:str\n",
    "    department:str\n",
    "    salary:Optional[float]=None #defining an optional Value with None as default\n",
    "    is_active:Optional[bool]=True"
   ]
  },
  {
   "cell_type": "code",
   "execution_count": 27,
   "id": "630639aa",
   "metadata": {},
   "outputs": [],
   "source": [
    "e=Employee(id='1',name='venu',department='AI')"
   ]
  },
  {
   "cell_type": "code",
   "execution_count": 28,
   "id": "54c3adbf",
   "metadata": {},
   "outputs": [
    {
     "name": "stdout",
     "output_type": "stream",
     "text": [
      "id=1 name='venu' department='AI' salary=None is_active=True\n"
     ]
    }
   ],
   "source": [
    "print(e)"
   ]
  },
  {
   "cell_type": "code",
   "execution_count": 30,
   "id": "fa04c58f",
   "metadata": {},
   "outputs": [],
   "source": [
    "from typing import List\n",
    "\n",
    "class Student(BaseModel):\n",
    "    room_no:str\n",
    "    students:List[str]\n",
    "    capacity:int\n"
   ]
  },
  {
   "cell_type": "code",
   "execution_count": 32,
   "id": "eea5a91b",
   "metadata": {},
   "outputs": [],
   "source": [
    "classroom=Student(room_no='A101',\n",
    "                  students=['Hari','Venu','Sahith','Adithya'],\n",
    "                  capacity=30)"
   ]
  },
  {
   "cell_type": "markdown",
   "id": "943183f6",
   "metadata": {},
   "source": [
    "#### Nested Models using Pydantic"
   ]
  },
  {
   "cell_type": "code",
   "execution_count": 36,
   "id": "d9269914",
   "metadata": {},
   "outputs": [],
   "source": [
    "from pydantic import BaseModel\n",
    "\n",
    "class Address(BaseModel):\n",
    "    street:str\n",
    "    city:str\n",
    "    code:int\n",
    "class Customer(BaseModel):\n",
    "    customer_id:int\n",
    "    name:str\n",
    "    address:Address\n",
    "\n",
    "c=Customer(customer_id=1,\n",
    "           name='venu',\n",
    "           address={'street':'123main st','city':'Boston','code':'522301'})"
   ]
  },
  {
   "cell_type": "code",
   "execution_count": 37,
   "metadata": {},
   "outputs": [
    {
     "name": "stdout",
     "output_type": "stream",
     "text": [
      "customer_id=1 name='venu' address=Address(street='123main st', city='Boston', code=522301)\n"
     ]
    }
   ],
   "source": [
    "print(c)"
   ]
  },
  {
   "cell_type": "markdown",
   "id": "313dffdc",
   "metadata": {},
   "source": [
    "###### Pydantic Fields : Customizing and Constraints"
   ]
  },
  {
   "cell_type": "code",
   "execution_count": null,
   "metadata": {},
   "outputs": [],
   "source": []
  },
  {
   "cell_type": "code",
   "execution_count": null,
   "metadata": {},
   "outputs": [],
   "source": []
  },
  {
   "cell_type": "code",
   "execution_count": null,
   "metadata": {},
   "outputs": [],
   "source": []
  },
  {
   "cell_type": "code",
   "execution_count": null,
   "metadata": {},
   "outputs": [],
   "source": []
  },
  {
   "cell_type": "code",
   "execution_count": null,
   "metadata": {},
   "outputs": [],
   "source": []
  },
  {
   "cell_type": "code",
   "execution_count": null,
   "metadata": {},
   "outputs": [],
   "source": []
  },
  {
   "cell_type": "code",
   "execution_count": null,
   "metadata": {},
   "outputs": [],
   "source": []
  }
 ],
 "metadata": {
  "kernelspec": {
   "display_name": "base",
   "language": "python",
   "name": "python3"
  },
  "language_info": {
   "codemirror_mode": {
    "name": "ipython",
    "version": 3
   },
   "file_extension": ".py",
   "mimetype": "text/x-python",
   "name": "python",
   "nbconvert_exporter": "python",
   "pygments_lexer": "ipython3",
   "version": "3.12.4"
  }
 },
 "nbformat": 4,
 "nbformat_minor": 5
}
